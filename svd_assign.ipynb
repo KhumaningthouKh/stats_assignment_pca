{
 "cells": [
  {
   "cell_type": "raw",
   "metadata": {},
   "source": [
    "Take any dataset (after reading their descriptions, make sure it has multiple variables) from https://www2.stetson.edu/~jrasp/data.htm. This website is created by Dr. John Rasp as a vast collection of datasets for students to try out their statistics methods. \n",
    "a) Find the Covariance matrix and Correlation matrix of this data matrix\n",
    "b) Perform PCA/SVD, choose appropriate number(justify by a scree plot) of dimensions/principal components/singular values and find the new data matrix in terms of these dimensions.\n",
    "c) Plot the scatter plot of this data along the first two dimensions (or three if it is possible)"
   ]
  },
  {
   "cell_type": "code",
   "execution_count": 1,
   "metadata": {},
   "outputs": [],
   "source": [
    "import pandas as pd\n",
    "import math\n",
    "from matplotlib import pyplot as plt\n",
    "import numpy as np\n",
    "from mpl_toolkits import mplot3d"
   ]
  },
  {
   "cell_type": "code",
   "execution_count": 2,
   "metadata": {},
   "outputs": [],
   "source": [
    "data = pd.read_excel(r'BodyFat.xls')\n",
    "#print(data)\n"
   ]
  },
  {
   "cell_type": "code",
   "execution_count": 3,
   "metadata": {},
   "outputs": [],
   "source": [
    "#removing the idno as it is of no use\n",
    "data_woid = data.drop(labels='IDNO',axis=1)\n",
    "\n",
    "#number of rows m\n",
    "m=data_woid.shape[0]\n",
    "#number of columns n\n",
    "n=data_woid.shape[1]"
   ]
  },
  {
   "cell_type": "code",
   "execution_count": 4,
   "metadata": {},
   "outputs": [],
   "source": [
    "#print(data_woid.iloc[0])\n",
    "#now find mean of each column\n",
    "data_transpose=data_woid.transpose()\n",
    "ones = pd.Series(1,index = range(0,252))\n",
    "data_mean = data_transpose.dot(ones)/m"
   ]
  },
  {
   "cell_type": "code",
   "execution_count": 5,
   "metadata": {},
   "outputs": [],
   "source": [
    "#print the mean just to check\n",
    "#print(data_mean)"
   ]
  },
  {
   "cell_type": "code",
   "execution_count": 6,
   "metadata": {},
   "outputs": [],
   "source": [
    "#now subtract the respective means from every row\n",
    "data_star = data_woid.sub(data_mean,axis=1)\n",
    "#print(data_star)"
   ]
  },
  {
   "cell_type": "code",
   "execution_count": 7,
   "metadata": {},
   "outputs": [],
   "source": [
    "data_star_transpose = data_star.transpose()\n",
    "#print(data_star_transpose)"
   ]
  },
  {
   "cell_type": "code",
   "execution_count": 8,
   "metadata": {},
   "outputs": [
    {
     "name": "stdout",
     "output_type": "stream",
     "text": [
      "              BODYFAT   DENSITY         AGE      WEIGHT     HEIGHT  ADIPOSITY  \\\n",
      "BODYFAT     60.075763 -0.145753   28.245483  139.671527  -2.529755  20.584749   \n",
      "DENSITY     -0.145753  0.000362   -0.066587   -0.332269   0.006823  -0.049623   \n",
      "AGE         28.245483 -0.066587  158.811405   -4.720686  -7.923046   5.464025   \n",
      "WEIGHT     139.671527 -0.332269   -4.720686  863.722719  33.185647  95.137383   \n",
      "HEIGHT      -2.529755  0.006823   -7.923046   33.185647  13.416513  -0.332605   \n",
      "ADIPOSITY   20.584749 -0.049623    5.464025   95.137383  -0.332605  13.308712   \n",
      "NECK         9.260466 -0.021881    3.477171   59.348441   2.259054   6.898222   \n",
      "CHEST       45.928905 -0.109519   18.746223  221.548750   4.165407  28.042649   \n",
      "ABDOMEN     68.007997 -0.163959   31.310050  281.410541   3.468334  36.343465   \n",
      "HIP         34.743601 -0.083078   -4.544071  198.099047   4.471301  23.084485   \n",
      "THIGH       22.839571 -0.055262  -13.238356  134.032185   2.854390  15.565277   \n",
      "KNEE         9.492320 -0.022722    0.532366   60.473281   2.527020   6.279158   \n",
      "ANKLE        3.504689 -0.008544   -2.243948   30.568587   1.643569   3.093537   \n",
      "BICEPS      11.545529 -0.028008   -1.567215   71.071090   2.299789   8.226603   \n",
      "FOREARM      5.689682 -0.013523   -2.165925   37.431343   1.692347   4.117792   \n",
      "WRIST        2.515065 -0.005787    2.512204   20.023036   1.101330   2.131726   \n",
      "\n",
      "                NECK       CHEST     ABDOMEN         HIP       THIGH  \\\n",
      "BODYFAT     9.260466   45.928905   68.007997   34.743601   22.839571   \n",
      "DENSITY    -0.021881   -0.109519   -0.163959   -0.083078   -0.055262   \n",
      "AGE         3.477171   18.746223   31.310050   -4.544071  -13.238356   \n",
      "WEIGHT     59.348441  221.548750  281.410541  198.099047  134.032185   \n",
      "HEIGHT      2.259054    4.165407    3.468334    4.471301    2.854390   \n",
      "ADIPOSITY   6.898222   28.042649   36.343465   23.084485   15.565277   \n",
      "NECK        5.909339   16.084217   19.766422   12.799440    8.878613   \n",
      "CHEST      16.084217   71.072918   83.254656   50.093988   32.303242   \n",
      "ABDOMEN    19.766422   83.254656  116.274745   67.522123   43.399068   \n",
      "HIP        12.799440   50.093988   67.522123   51.323722   33.714832   \n",
      "THIGH       8.878613   32.303242   43.399068   33.714832   27.561996   \n",
      "KNEE        3.942235   14.629275   19.171571   14.228213   10.118981   \n",
      "ANKLE       1.968983    6.901297    8.283173    6.780108    4.803173   \n",
      "BICEPS      5.369868   18.540367   22.315796   16.001243   12.078207   \n",
      "FOREARM     3.063497    9.883467   10.966889    7.889814    6.013363   \n",
      "WRIST       1.690357    5.195850    6.239802    4.214200    2.738268   \n",
      "\n",
      "                KNEE      ANKLE     BICEPS    FOREARM      WRIST  \n",
      "BODYFAT     9.492320   3.504689  11.545529   5.689682   2.515065  \n",
      "DENSITY    -0.022722  -0.008544  -0.028008  -0.013523  -0.005787  \n",
      "AGE         0.532366  -2.243948  -1.567215  -2.165925   2.512204  \n",
      "WEIGHT     60.473281  30.568587  71.071090  37.431343  20.023036  \n",
      "HEIGHT      2.527020   1.643569   2.299789   1.692347   1.101330  \n",
      "ADIPOSITY   6.279158   3.093537   8.226603   4.117792   2.131726  \n",
      "NECK        3.942235   1.968983   5.369868   3.063497   1.690357  \n",
      "CHEST      14.629275   6.901297  18.540367   9.883467   5.195850  \n",
      "ABDOMEN    19.171571   8.283173  22.315796  10.966889   6.239802  \n",
      "HIP        14.228213   6.780108  16.001243   7.889814   4.214200  \n",
      "THIGH      10.118981   4.803173  12.078207   6.013363   2.738268  \n",
      "KNEE        5.816801   2.500102   4.945563   2.709177   1.496221  \n",
      "ANKLE       2.500102   2.872664   2.482813   1.435186   0.895905  \n",
      "BICEPS      4.945563   2.482813   9.128095   4.140789   1.782986  \n",
      "FOREARM     2.709177   1.435186   4.140789   4.083193   1.104705  \n",
      "WRIST       1.496221   0.895905   1.782986   1.104705   0.871581  \n"
     ]
    }
   ],
   "source": [
    "#a) part 1 now calculate the covariance matrix\n",
    "data_cov_mat = data_star_transpose.dot(data_star)/(m-1)\n",
    "print(data_cov_mat)"
   ]
  },
  {
   "cell_type": "code",
   "execution_count": 9,
   "metadata": {},
   "outputs": [],
   "source": [
    "#print(data_cov_mat.iat[0,0])"
   ]
  },
  {
   "cell_type": "code",
   "execution_count": 10,
   "metadata": {},
   "outputs": [
    {
     "name": "stdout",
     "output_type": "stream",
     "text": [
      "            BODYFAT   DENSITY       AGE    WEIGHT    HEIGHT  ADIPOSITY  \\\n",
      "BODYFAT    1.000000 -0.988087  0.289174  0.613156 -0.089106   0.727994   \n",
      "DENSITY   -0.988087  1.000000 -0.277637 -0.594062  0.097881  -0.714732   \n",
      "AGE        0.289174 -0.277637  1.000000 -0.012746 -0.171645   0.118851   \n",
      "WEIGHT     0.613156 -0.594062 -0.012746  1.000000  0.308279   0.887352   \n",
      "HEIGHT    -0.089106  0.097881 -0.171645  0.308279  1.000000  -0.024891   \n",
      "ADIPOSITY  0.727994 -0.714732  0.118851  0.887352 -0.024891   1.000000   \n",
      "NECK       0.491489 -0.472966  0.113505  0.830716  0.253710   0.777857   \n",
      "CHEST      0.702885 -0.682599  0.176450  0.894191  0.134892   0.911799   \n",
      "ABDOMEN    0.813706 -0.798955  0.230409  0.887995  0.087813   0.923880   \n",
      "HIP        0.625700 -0.609331 -0.050332  0.940884  0.170394   0.883269   \n",
      "THIGH      0.561284 -0.553091 -0.200096  0.868694  0.148436   0.812706   \n",
      "KNEE       0.507786 -0.495040  0.017516  0.853167  0.286053   0.713660   \n",
      "ANKLE      0.266783 -0.264890 -0.105058  0.613685  0.264744   0.500317   \n",
      "BICEPS     0.493031 -0.487109 -0.041162  0.800416  0.207816   0.746384   \n",
      "FOREARM    0.363277 -0.351648 -0.085056  0.630301  0.228649   0.558594   \n",
      "WRIST      0.347573 -0.325716  0.213531  0.729775  0.322065   0.625907   \n",
      "\n",
      "               NECK     CHEST   ABDOMEN       HIP     THIGH      KNEE  \\\n",
      "BODYFAT    0.491489  0.702885  0.813706  0.625700  0.561284  0.507786   \n",
      "DENSITY   -0.472966 -0.682599 -0.798955 -0.609331 -0.553091 -0.495040   \n",
      "AGE        0.113505  0.176450  0.230409 -0.050332 -0.200096  0.017516   \n",
      "WEIGHT     0.830716  0.894191  0.887995  0.940884  0.868694  0.853167   \n",
      "HEIGHT     0.253710  0.134892  0.087813  0.170394  0.148436  0.286053   \n",
      "ADIPOSITY  0.777857  0.911799  0.923880  0.883269  0.812706  0.713660   \n",
      "NECK       1.000000  0.784835  0.754077  0.734958  0.695697  0.672405   \n",
      "CHEST      0.784835  1.000000  0.915828  0.829420  0.729859  0.719496   \n",
      "ABDOMEN    0.754077  0.915828  1.000000  0.874066  0.766624  0.737179   \n",
      "HIP        0.734958  0.829420  0.874066  1.000000  0.896410  0.823473   \n",
      "THIGH      0.695697  0.729859  0.766624  0.896410  1.000000  0.799170   \n",
      "KNEE       0.672405  0.719496  0.737179  0.823473  0.799170  1.000000   \n",
      "ANKLE      0.477892  0.482988  0.453223  0.558387  0.539797  0.611608   \n",
      "BICEPS     0.731146  0.727907  0.684983  0.739273  0.761477  0.678709   \n",
      "FOREARM    0.623660  0.580173  0.503316  0.545014  0.566842  0.555898   \n",
      "WRIST      0.744826  0.660162  0.619832  0.630090  0.558685  0.664507   \n",
      "\n",
      "              ANKLE    BICEPS   FOREARM     WRIST  \n",
      "BODYFAT    0.266783  0.493031  0.363277  0.347573  \n",
      "DENSITY   -0.264890 -0.487109 -0.351648 -0.325716  \n",
      "AGE       -0.105058 -0.041162 -0.085056  0.213531  \n",
      "WEIGHT     0.613685  0.800416  0.630301  0.729775  \n",
      "HEIGHT     0.264744  0.207816  0.228649  0.322065  \n",
      "ADIPOSITY  0.500317  0.746384  0.558594  0.625907  \n",
      "NECK       0.477892  0.731146  0.623660  0.744826  \n",
      "CHEST      0.482988  0.727907  0.580173  0.660162  \n",
      "ABDOMEN    0.453223  0.684983  0.503316  0.619832  \n",
      "HIP        0.558387  0.739273  0.545014  0.630090  \n",
      "THIGH      0.539797  0.761477  0.566842  0.558685  \n",
      "KNEE       0.611608  0.678709  0.555898  0.664507  \n",
      "ANKLE      1.000000  0.484855  0.419050  0.566195  \n",
      "BICEPS     0.484855  1.000000  0.678255  0.632126  \n",
      "FOREARM    0.419050  0.678255  1.000000  0.585588  \n",
      "WRIST      0.566195  0.632126  0.585588  1.000000  \n"
     ]
    }
   ],
   "source": [
    "#now get the data star tilde to calculate correlation matrix\n",
    "\n",
    "data_star_tilde = data_star\n",
    "data_variance = []\n",
    "#get the variance\n",
    "for i in range(0,n):\n",
    "    data_variance.append(math.sqrt(data_cov_mat.iat[i,i]))\n",
    "\n",
    "data_star_tilde = data_star_tilde.div(data_variance,axis=1 )\n",
    "\n",
    "data_star_tilde_transpose = data_star_tilde.transpose()\n",
    "\n",
    "#calculate correlation matrix\n",
    "data_cor_mat = data_star_tilde_transpose.dot(data_star_tilde)/(m-1)\n",
    "\n",
    "print(data_cor_mat)\n"
   ]
  },
  {
   "cell_type": "code",
   "execution_count": 11,
   "metadata": {},
   "outputs": [
    {
     "name": "stdout",
     "output_type": "stream",
     "text": [
      "(16, 1)\n"
     ]
    }
   ],
   "source": [
    "from matplotlib import pyplot as plt\n",
    "import numpy as np\n",
    "\n",
    "U,s,Vt = np.linalg.svd(data_woid)\n",
    "s = s.reshape(s.shape[0],1)\n",
    "print(s.shape)"
   ]
  },
  {
   "cell_type": "code",
   "execution_count": 12,
   "metadata": {},
   "outputs": [
    {
     "data": {
      "text/plain": [
       "Text(0, 0.5, 'strength_of_concepts')"
      ]
     },
     "execution_count": 12,
     "metadata": {},
     "output_type": "execute_result"
    },
    {
     "data": {
      "image/png": "[encoded data removed]",
      "text/plain": [
       "<Figure size 432x288 with 1 Axes>"
      ]
     },
     "metadata": {
      "needs_background": "light"
     },
     "output_type": "display_data"
    }
   ],
   "source": [
    "plt.plot(s)\n",
    "plt.xlabel('concepts')\n",
    "plt.ylabel('strength_of_concepts')\n"
   ]
  },
  {
   "cell_type": "code",
   "execution_count": 13,
   "metadata": {},
   "outputs": [],
   "source": [
    "#select number of dimensions based on energy\n",
    "\n",
    "energy = sum(map(lambda x:x*x,s))\n",
    "#print(energy)\n",
    "temp_energy=0\n",
    "\n",
    "for i in range(0,s.shape[0]):\n",
    "    temp_energy+= sum(map(lambda x:x*x,s[i]))\n",
    "    p = (temp_energy/energy)*100\n",
    "    if(p>99):\n",
    "        break\n",
    "num_princi_comp = i+1\n",
    "#print(num_princi_comp)\n",
    "#print(p)\n",
    "#print(temp_energy)"
   ]
  },
  {
   "cell_type": "markdown",
   "metadata": {},
   "source": [
    "Only one concept/dimension is enough since we have more than 99% energy\n",
    "This result also concurs with that of the graph"
   ]
  },
  {
   "cell_type": "code",
   "execution_count": 17,
   "metadata": {},
   "outputs": [
    {
     "name": "stdout",
     "output_type": "stream",
     "text": [
      "[[ 17.30939084   0.93510033  39.92663396 161.51933392  62.31677786\n",
      "   22.88616875  33.89615897  90.18952963  83.07220998  89.26918459\n",
      "   53.12857681  34.4278222   20.58827594  28.85920903  25.5463024\n",
      "   16.23628228]\n",
      " [ 18.28819732   0.98797811  42.18439385 170.65288304  65.8406492\n",
      "   24.18032928  35.81290928  95.28954137  87.76975356  94.31715292\n",
      "   56.13287639  36.37463685  21.75249588  30.49113133  26.9908874\n",
      "   17.15440693]\n",
      " [ 17.5420577    0.94766962  40.46331401 163.69042111  63.1544185\n",
      "   23.19379674  34.35177945  91.40182619  84.18883798  90.46911019\n",
      "   53.84271282  34.89058911  20.86501645  29.24712456  25.88968698\n",
      "   16.45452479]\n",
      " [ 19.24253808   1.03953419  44.38571996 179.55813482  69.27643973\n",
      "   25.44214166  37.68174951 100.26207593  92.34987984  99.23894492\n",
      "   59.06208208  38.27278995  22.8876156   32.08226297  28.39936433\n",
      "   18.04958263]\n",
      " [ 19.53811683   1.05550216  45.06751545 182.3162725   70.34057396\n",
      "   25.83295063  38.26056736 101.80217106  93.76843815 100.76332404\n",
      "   59.96931669  38.86068659  23.23918527  32.57506881  28.83559829\n",
      "   18.32683675]]\n"
     ]
    }
   ],
   "source": [
    "#b) construction of new data matrix using the dimension\n",
    "approx_data_matrix = U[:,[0]].dot(s[0,0]*(Vt[[0],:]))\n",
    "print(approx_data_matrix[0:5,:])"
   ]
  },
  {
   "cell_type": "code",
   "execution_count": 18,
   "metadata": {},
   "outputs": [
    {
     "name": "stdout",
     "output_type": "stream",
     "text": [
      "   BODYFAT  DENSITY  AGE  WEIGHT  HEIGHT  ADIPOSITY  NECK  CHEST  ABDOMEN  \\\n",
      "0     12.6   1.0708   23  154.25   67.75       23.7  36.2   93.1     85.2   \n",
      "1      6.9   1.0853   22  173.25   72.25       23.4  38.5   93.6     83.0   \n",
      "2     24.6   1.0414   22  154.00   66.25       24.7  34.0   95.8     87.9   \n",
      "3     10.9   1.0751   26  184.75   72.25       24.9  37.4  101.8     86.4   \n",
      "4     27.8   1.0340   24  184.25   71.25       25.6  34.4   97.3    100.0   \n",
      "\n",
      "     HIP  THIGH  KNEE  ANKLE  BICEPS  FOREARM  WRIST  \n",
      "0   94.5   59.0  37.3   21.9    32.0     27.4   17.1  \n",
      "1   98.7   58.7  37.3   23.4    30.5     28.9   18.2  \n",
      "2   99.2   59.6  38.9   24.0    28.8     25.2   16.6  \n",
      "3  101.2   60.1  37.3   22.8    32.4     29.4   18.2  \n",
      "4  101.9   63.2  42.2   24.0    32.2     27.7   17.7  \n"
     ]
    }
   ],
   "source": [
    "print(data_woid.iloc[0:5])"
   ]
  },
  {
   "cell_type": "code",
   "execution_count": 19,
   "metadata": {},
   "outputs": [
    {
     "data": {
      "text/plain": [
       "<matplotlib.collections.PathCollection at 0x15be0650d48>"
      ]
     },
     "execution_count": 19,
     "metadata": {},
     "output_type": "execute_result"
    },
    {
     "data": {
      "image/png": "[encoded data removed]",
      "text/plain": [
       "<Figure size 432x288 with 1 Axes>"
      ]
     },
     "metadata": {
      "needs_background": "light"
     },
     "output_type": "display_data"
    }
   ],
   "source": [
    "#c) plotting the approximated data matrix along first two dimesnsions\n",
    "\n",
    "plt.scatter(approx_data_matrix[:,0],approx_data_matrix[:,1])"
   ]
  },
  {
   "cell_type": "code",
   "execution_count": 20,
   "metadata": {},
   "outputs": [
    {
     "data": {
      "text/plain": [
       "[<mpl_toolkits.mplot3d.art3d.Line3D at 0x15be0687888>]"
      ]
     },
     "execution_count": 20,
     "metadata": {},
     "output_type": "execute_result"
    },
    {
     "data": {
      "image/png": "[encoded data removed]",
      "text/plain": [
       "<Figure size 432x288 with 1 Axes>"
      ]
     },
     "metadata": {
      "needs_background": "light"
     },
     "output_type": "display_data"
    }
   ],
   "source": [
    "# plotting the approximated data matrix along first three dimesnsions\n",
    "from mpl_toolkits import mplot3d\n",
    "ax = plt.axes(projection='3d')\n",
    "\n",
    "xdata = approx_data_matrix[:,0]\n",
    "ydata = approx_data_matrix[:,1]\n",
    "zdata = approx_data_matrix[:,2]\n",
    "ax.plot3D(xdata, ydata, zdata, 'green')"
   ]
  },
  {
   "cell_type": "code",
   "execution_count": null,
   "metadata": {},
   "outputs": [],
   "source": []
  }
 ],
 "metadata": {
  "kernelspec": {
   "display_name": "Python 3",
   "language": "python",
   "name": "python3"
  },
  "language_info": {
   "codemirror_mode": {
    "name": "ipython",
    "version": 3
   },
   "file_extension": ".py",
   "mimetype": "text/x-python",
   "name": "python",
   "nbconvert_exporter": "python",
   "pygments_lexer": "ipython3",
   "version": "3.7.4"
  }
 },
 "nbformat": 4,
 "nbformat_minor": 4
}
